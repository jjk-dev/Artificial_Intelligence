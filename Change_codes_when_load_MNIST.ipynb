{
  "nbformat": 4,
  "nbformat_minor": 0,
  "metadata": {
    "colab": {
      "name": "Change codes when load MNIST.ipynb",
      "provenance": [],
      "collapsed_sections": [],
      "include_colab_link": true
    },
    "kernelspec": {
      "name": "python3",
      "display_name": "Python 3"
    },
    "accelerator": "GPU"
  },
  "cells": [
    {
      "cell_type": "markdown",
      "metadata": {
        "id": "view-in-github",
        "colab_type": "text"
      },
      "source": [
        "<a href=\"https://colab.research.google.com/github/kkkkk317/AI_CLASS/blob/master/Change_codes_when_load_MNIST.ipynb\" target=\"_parent\"><img src=\"https://colab.research.google.com/assets/colab-badge.svg\" alt=\"Open In Colab\"/></a>"
      ]
    },
    {
      "cell_type": "markdown",
      "metadata": {
        "id": "YjzgRAAwGywA",
        "colab_type": "text"
      },
      "source": [
        "# **pickle in Python3**"
      ]
    },
    {
      "cell_type": "code",
      "metadata": {
        "id": "-vqkpgyLGxtq",
        "colab_type": "code",
        "colab": {}
      },
      "source": [
        "import pickle"
      ],
      "execution_count": 0,
      "outputs": []
    },
    {
      "cell_type": "code",
      "metadata": {
        "id": "-wE8-X6VG0WS",
        "colab_type": "code",
        "colab": {}
      },
      "source": [
        "import _pickle as pickle"
      ],
      "execution_count": 0,
      "outputs": []
    },
    {
      "cell_type": "markdown",
      "metadata": {
        "id": "lIU16bulGEPv",
        "colab_type": "text"
      },
      "source": [
        "# **Hide warning when load MNIST**"
      ]
    },
    {
      "cell_type": "code",
      "metadata": {
        "id": "d_YpQWfRGDE6",
        "colab_type": "code",
        "colab": {}
      },
      "source": [
        "%tensorflow_version 1.x\n",
        "\n",
        "import tensorflow as tf\n",
        "import numpy as np\n",
        "import matplotlib.pyplot as plt\n",
        "from tensorflow.examples.tutorials.mnist import input_data\n",
        "\n",
        "np.random.seed(201911)"
      ],
      "execution_count": 0,
      "outputs": []
    },
    {
      "cell_type": "code",
      "metadata": {
        "id": "vrp6EyLj3ksP",
        "colab_type": "code",
        "colab": {}
      },
      "source": [
        "print(tf.__version__)"
      ],
      "execution_count": 0,
      "outputs": []
    },
    {
      "cell_type": "code",
      "metadata": {
        "id": "S1hDQjJbGLr4",
        "colab_type": "code",
        "outputId": "7107a380-7ae4-4016-ce66-54ceb737ac9b",
        "colab": {
          "base_uri": "https://localhost:8080/",
          "height": 161
        }
      },
      "source": [
        "old_v = tf.logging.get_verbosity()\n",
        "tf.logging.set_verbosity(tf.logging.ERROR)\n",
        "mnist = input_data.read_data_sets(\"tmp / data/\", one_hot=True )"
      ],
      "execution_count": 0,
      "outputs": [
        {
          "output_type": "stream",
          "text": [
            "Successfully downloaded train-images-idx3-ubyte.gz 9912422 bytes.\n",
            "Extracting tmp / data/train-images-idx3-ubyte.gz\n",
            "Successfully downloaded train-labels-idx1-ubyte.gz 28881 bytes.\n",
            "Extracting tmp / data/train-labels-idx1-ubyte.gz\n",
            "Successfully downloaded t10k-images-idx3-ubyte.gz 1648877 bytes.\n",
            "Extracting tmp / data/t10k-images-idx3-ubyte.gz\n",
            "Successfully downloaded t10k-labels-idx1-ubyte.gz 4542 bytes.\n",
            "Extracting tmp / data/t10k-labels-idx1-ubyte.gz\n"
          ],
          "name": "stdout"
        }
      ]
    },
    {
      "cell_type": "markdown",
      "metadata": {
        "id": "0TzPs9NYRtAE",
        "colab_type": "text"
      },
      "source": [
        "# **Using Keras module**"
      ]
    },
    {
      "cell_type": "code",
      "metadata": {
        "id": "e6Zg4z9KRqj5",
        "colab_type": "code",
        "colab": {}
      },
      "source": [
        "%tensorflow_version 1.x\n",
        "\n",
        "import tensorflow as tf\n",
        "import numpy as np\n",
        "import matplotlib.pyplot as plt\n",
        "\n",
        "np.random.seed(201911)"
      ],
      "execution_count": 0,
      "outputs": []
    },
    {
      "cell_type": "code",
      "metadata": {
        "id": "r-_bWqfDOVCt",
        "colab_type": "code",
        "outputId": "9d6c7107-f86e-4916-b071-80c02969e205",
        "colab": {
          "base_uri": "https://localhost:8080/",
          "height": 53
        }
      },
      "source": [
        "(train_x, train_y), (test_x, test_y) = tf.keras.datasets.mnist.load_data()"
      ],
      "execution_count": 0,
      "outputs": [
        {
          "output_type": "stream",
          "text": [
            "Downloading data from https://storage.googleapis.com/tensorflow/tf-keras-datasets/mnist.npz\n",
            "11493376/11490434 [==============================] - 0s 0us/step\n"
          ],
          "name": "stdout"
        }
      ]
    },
    {
      "cell_type": "code",
      "metadata": {
        "id": "OI6X6AYGp0VZ",
        "colab_type": "code",
        "colab": {}
      },
      "source": [
        "train_x = train_x.reshape([train_x.shape[0], -1]) / 255\n",
        "test_x = test_x.reshape([test_x.shape[0], -1]) / 255\n",
        "\n",
        "train_y = tf.keras.utils.to_categorical(train_y, num_classes=10)\n",
        "test_y = tf.keras.utils.to_categorical(test_y, num_classes=10)"
      ],
      "execution_count": 0,
      "outputs": []
    },
    {
      "cell_type": "code",
      "metadata": {
        "id": "nl7a43XHO_kE",
        "colab_type": "code",
        "colab": {}
      },
      "source": [
        "buffer_size = train_x.shape[0] + test_x.shape[0]\n",
        "\n",
        "dataset = tf.data.Dataset.from_tensor_slices(({\"image\": train_x}, train_y))\n",
        "dataset = dataset.shuffle(buffer_size).repeat().batch(100)\n",
        "iterator = tf.compat.v1.data.make_one_shot_iterator(dataset)\n",
        "next_batch = iterator.get_next()"
      ],
      "execution_count": 0,
      "outputs": []
    },
    {
      "cell_type": "code",
      "metadata": {
        "id": "jGSySHmQOVFp",
        "colab_type": "code",
        "colab": {}
      },
      "source": [
        "x = tf.placeholder(tf.float32, [None, 784])\n",
        "w = tf.Variable(tf.zeros([784, 10]))\n",
        "w0 = tf.Variable(tf.zeros([10]))\n",
        "f = tf.matmul(x, w) + w0\n",
        "p = tf.nn.softmax(f)"
      ],
      "execution_count": 0,
      "outputs": []
    },
    {
      "cell_type": "code",
      "metadata": {
        "id": "FA5d9QehOVHl",
        "colab_type": "code",
        "colab": {}
      },
      "source": [
        "t = tf.placeholder(tf.float32, [None, 10])\n",
        "loss = -tf.reduce_sum(t * tf.log(p))\n",
        "train_step = tf.train.AdamOptimizer().minimize(loss)"
      ],
      "execution_count": 0,
      "outputs": []
    },
    {
      "cell_type": "code",
      "metadata": {
        "id": "k2tjSqmmOVAn",
        "colab_type": "code",
        "colab": {}
      },
      "source": [
        "correct_prediction = tf.equal(tf.argmax(p, 1), tf.argmax(t, 1))\n",
        "accuracy = tf.reduce_mean(tf.cast(correct_prediction, tf.float32))"
      ],
      "execution_count": 0,
      "outputs": []
    },
    {
      "cell_type": "code",
      "metadata": {
        "id": "Y22U8N6NOU92",
        "colab_type": "code",
        "colab": {}
      },
      "source": [
        "sess = tf.Session()\n",
        "sess.run(tf.global_variables_initializer())"
      ],
      "execution_count": 0,
      "outputs": []
    },
    {
      "cell_type": "code",
      "metadata": {
        "id": "Hb9M1jEtOeBT",
        "colab_type": "code",
        "outputId": "91004107-7dfb-4c6a-98f9-5de413e7c3b2",
        "colab": {
          "base_uri": "https://localhost:8080/",
          "height": 377
        }
      },
      "source": [
        "i = 0\n",
        "for _ in range(2000):\n",
        "    i += 1\n",
        "    batch_xs, batch_ts = sess.run(next_batch)\n",
        "    sess.run(train_step, feed_dict={x: batch_xs['image'], t: batch_ts})\n",
        "    if i % 100 == 0:\n",
        "        loss_val, acc_val = sess.run([loss, accuracy],\n",
        "            feed_dict={x:test_x, t: test_y})\n",
        "        print ('Step: %d, Loss: %f, Accuracy: %f'\n",
        "               % (i, loss_val, acc_val))"
      ],
      "execution_count": 0,
      "outputs": [
        {
          "output_type": "stream",
          "text": [
            "Step: 100, Loss: 7590.535156, Accuracy: 0.845800\n",
            "Step: 200, Loss: 5409.604492, Accuracy: 0.873800\n",
            "Step: 300, Loss: 4544.633789, Accuracy: 0.891900\n",
            "Step: 400, Loss: 4104.909668, Accuracy: 0.898300\n",
            "Step: 500, Loss: 3800.045898, Accuracy: 0.902700\n",
            "Step: 600, Loss: 3590.590820, Accuracy: 0.904300\n",
            "Step: 700, Loss: 3445.729980, Accuracy: 0.909600\n",
            "Step: 800, Loss: 3391.903076, Accuracy: 0.909300\n",
            "Step: 900, Loss: 3253.136719, Accuracy: 0.911900\n",
            "Step: 1000, Loss: 3181.138672, Accuracy: 0.913600\n",
            "Step: 1100, Loss: 3118.448486, Accuracy: 0.914200\n",
            "Step: 1200, Loss: 3067.145264, Accuracy: 0.916000\n",
            "Step: 1300, Loss: 3022.478516, Accuracy: 0.916300\n",
            "Step: 1400, Loss: 2990.152832, Accuracy: 0.916500\n",
            "Step: 1500, Loss: 2972.139160, Accuracy: 0.916500\n",
            "Step: 1600, Loss: 2921.661133, Accuracy: 0.918200\n",
            "Step: 1700, Loss: 2904.751709, Accuracy: 0.919300\n",
            "Step: 1800, Loss: 2881.363037, Accuracy: 0.921000\n",
            "Step: 1900, Loss: 2869.446777, Accuracy: 0.920800\n",
            "Step: 2000, Loss: 2850.558838, Accuracy: 0.921600\n"
          ],
          "name": "stdout"
        }
      ]
    },
    {
      "cell_type": "code",
      "metadata": {
        "id": "m-4-8d-yOeGN",
        "colab_type": "code",
        "outputId": "07d1109c-4ad0-4e97-cbca-cf9a924493b9",
        "colab": {
          "base_uri": "https://localhost:8080/",
          "height": 860
        }
      },
      "source": [
        "images, labels = test_x, test_y\n",
        "p_val = sess.run(p, feed_dict={x:images, t: labels}) \n",
        "\n",
        "fig = plt.figure(figsize=(8,15))\n",
        "for i in range(10):\n",
        "    c = 1\n",
        "    for (image, label, pred) in zip(images, labels, p_val):\n",
        "        prediction, actual = np.argmax(pred), np.argmax(label)\n",
        "        if prediction != i:\n",
        "            continue\n",
        "        if (c < 4 and i == actual) or (c >= 4 and i != actual):\n",
        "            subplot = fig.add_subplot(10,6,i*6+c)\n",
        "            subplot.set_xticks([])\n",
        "            subplot.set_yticks([])\n",
        "            subplot.set_title('%d / %d' % (prediction, actual))\n",
        "            subplot.imshow(image.reshape((28,28)), vmin=0, vmax=1,\n",
        "                           cmap=plt.cm.gray_r, interpolation=\"nearest\")\n",
        "            c += 1\n",
        "            if c > 6:\n",
        "                break"
      ],
      "execution_count": 0,
      "outputs": [
        {
          "output_type": "display_data",
          "data": {
            "image/png": "[encoded data removed]",
            "text/plain": [
              "<Figure size 576x1080 with 60 Axes>"
            ]
          },
          "metadata": {
            "tags": []
          }
        }
      ]
    },
    {
      "cell_type": "markdown",
      "metadata": {
        "id": "1lF_JOshqf7E",
        "colab_type": "text"
      },
      "source": [
        "# **Change the dir of MNIST data**"
      ]
    },
    {
      "cell_type": "code",
      "metadata": {
        "id": "8QQHk2aOqger",
        "colab_type": "code",
        "colab": {}
      },
      "source": [
        "%tensorflow_version 1.x\n",
        "\n",
        "import tensorflow as tf\n",
        "import numpy as np\n",
        "import matplotlib.pyplot as plt\n",
        "import tensorflow_datasets as tfds\n",
        "\n",
        "np.random.seed(201911)"
      ],
      "execution_count": 0,
      "outputs": []
    },
    {
      "cell_type": "code",
      "metadata": {
        "id": "MNd6J1xNqzDu",
        "colab_type": "code",
        "colab": {}
      },
      "source": [
        "(train_x, train_y), (test_x, test_y) = tfds.load('mnist', split=['train', 'test'], batch_size=-1, as_supervised=True)"
      ],
      "execution_count": 0,
      "outputs": []
    }
  ]
}